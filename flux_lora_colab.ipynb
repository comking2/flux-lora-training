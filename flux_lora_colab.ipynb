{
 "cells": [
  {
   "cell_type": "markdown",
   "metadata": {},
   "source": [
    "# FLUX LoRA Training in Google Colab\n",
    "\n",
    "이 노트북은 Google Colab에서 FLUX LoRA 훈련을 위한 환경설정 및 실행 가이드입니다."
   ]
  },
  {
   "cell_type": "code",
   "execution_count": null,
   "metadata": {},
   "outputs": [],
   "source": [
    "# GPU 정보 확인\n",
    "!nvidia-smi\n",
    "!nvcc --version"
   ]
  },
  {
   "cell_type": "code",
   "execution_count": null,
   "metadata": {},
   "outputs": [],
   "source": [
    "# 필요한 패키지 설치\n",
    "!pip install torch torchvision torchaudio --index-url https://download.pytorch.org/whl/cu118\n",
    "!pip install diffusers transformers peft accelerate datasets\n",
    "!pip install Pillow pandas numpy tqdm wandb safetensors\n",
    "!pip install sentencepiece protobuf python-dotenv"
   ]
  },
  {
   "cell_type": "code",
   "execution_count": null,
   "metadata": {},
   "outputs": [],
   "source": [
    "# Hugging Face 토큰 설정\n",
    "import os\n",
    "from google.colab import userdata\n",
    "\n",
    "# Colab Secrets에서 토큰 가져오기 (권장)\n",
    "try:\n",
    "    HF_TOKEN = userdata.get('HUGGINGFACE_TOKEN')\n",
    "    os.environ['HUGGINGFACE_TOKEN'] = HF_TOKEN\n",
    "    print(\"✅ Token loaded from Colab secrets\")\n",
    "except:\n",
    "    # 직접 입력 (보안상 권장하지 않음)\n",
    "    HF_TOKEN = \"hf_your_token_here\"  # 여기에 토큰 입력\n",
    "    os.environ['HUGGINGFACE_TOKEN'] = HF_TOKEN\n",
    "    print(\"⚠️ Token set manually\")"
   ]
  },
  {
   "cell_type": "code",
   "execution_count": null,
   "metadata": {},
   "outputs": [],
   "source": [
    "# 훈련 코드 다운로드\n",
    "!git clone https://github.com/your-repo/flux-lora-training.git\n",
    "# 또는 파일을 직접 업로드하세요"
   ]
  },
  {
   "cell_type": "code",
   "execution_count": null,
   "metadata": {},
   "outputs": [],
   "source": [
    "# 데이터셋 업로드 또는 다운로드\n",
    "# 방법 1: Google Drive 마운트\n",
    "from google.colab import drive\n",
    "drive.mount('/content/drive')\n",
    "\n",
    "# 방법 2: 직접 업로드\n",
    "# from google.colab import files\n",
    "# uploaded = files.upload()"
   ]
  },
  {
   "cell_type": "code",
   "execution_count": null,
   "metadata": {},
   "outputs": [],
   "source": [
    "# GPU 메모리 최적화 설정\n",
    "import torch\n",
    "\n",
    "# GPU 메모리 확인\n",
    "if torch.cuda.is_available():\n",
    "    print(f\"GPU: {torch.cuda.get_device_name()}\")\n",
    "    print(f\"VRAM: {torch.cuda.get_device_properties(0).total_memory / 1e9:.1f}GB\")\n",
    "    \n",
    "    # 메모리 캐시 정리\n",
    "    torch.cuda.empty_cache()"
   ]
  },
  {
   "cell_type": "code",
   "execution_count": null,
   "metadata": {},
   "outputs": [],
   "source": [
    "# FLUX LoRA 훈련 실행\n",
    "# T4 (16GB) 환경 최적화\n",
    "\n",
    "!python train_lora.py \\\n",
    "    --data_dir \"/content/drive/MyDrive/training_data\" \\\n",
    "    --output_dir \"./flux_lora_output\" \\\n",
    "    --epochs 10 \\\n",
    "    --batch_size 1 \\\n",
    "    --lora_rank 8 \\\n",
    "    --learning_rate 5e-5"
   ]
  }
 ],
 "metadata": {
  "kernelspec": {
   "display_name": "Python 3",
   "language": "python",
   "name": "python3"
  },
  "language_info": {
   "codemirror_mode": {
    "name": "ipython",
    "version": 3
   },
   "file_extension": ".py",
   "mimetype": "text/x-python",
   "name": "python",
   "nbconvert_exporter": "python",
   "pygments_lexer": "ipython3",
   "version": "3.8.10"
  }
 },
 "nbformat": 4,
 "nbformat_minor": 4
}